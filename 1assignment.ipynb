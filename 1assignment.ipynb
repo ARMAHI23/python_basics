{
 "cells": [
  {
   "cell_type": "code",
   "execution_count": 2,
   "id": "43410c69-e225-4de9-a40a-c24b8f27a5a5",
   "metadata": {},
   "outputs": [
    {
     "name": "stdin",
     "output_type": "stream",
     "text": [
      "enter a: 5\n",
      "enter b: 7\n"
     ]
    },
    {
     "name": "stdout",
     "output_type": "stream",
     "text": [
      "a+b=  12\n"
     ]
    }
   ],
   "source": [
    "#WAP to accept two numbers from the user and display their sum\n",
    "a=int(input(\"enter a:\"))\n",
    "b=int(input(\"enter b:\"))\n",
    "c=a+b\n",
    "print(\"a+b= \",c)\n",
    "            "
   ]
  },
  {
   "cell_type": "code",
   "execution_count": 3,
   "id": "966a9f94-3816-4c26-9bf7-b54d54bbdaf2",
   "metadata": {},
   "outputs": [
    {
     "name": "stdin",
     "output_type": "stream",
     "text": [
      "enter r: 2\n"
     ]
    },
    {
     "name": "stdout",
     "output_type": "stream",
     "text": [
      "area: 12.56\n",
      "circumference 12.56\n"
     ]
    }
   ],
   "source": [
    "#WAP to accept radius of a Circle from the user and calculate area and circumference\n",
    "r=float(input(\"enter r:\"))\n",
    "area=3.14*r*r\n",
    "print(\"area:\",area)\n",
    "circumference=2*3.14*r\n",
    "print(\"circumference\",circumference)"
   ]
  },
  {
   "cell_type": "code",
   "execution_count": 5,
   "id": "aec4b544-9af9-4f5e-912a-c0219623a489",
   "metadata": {},
   "outputs": [
    {
     "name": "stdin",
     "output_type": "stream",
     "text": [
      "name,rollno,grade,percentage mahi 48 A 87\n"
     ]
    },
    {
     "name": "stdout",
     "output_type": "stream",
     "text": [
      "name: mahi\n",
      "rollno: 48\n",
      "grade: A\n",
      "percentage: 87\n"
     ]
    }
   ],
   "source": [
    "#WAP to accept roll number , grade and percentage as input from the user and display it back\n",
    "student=input(\"name,rollno,grade,percentage\")\n",
    "name,rollno,grade,percentage=student.split()\n",
    "print(\"name:\",name)\n",
    "print(\"rollno:\",rollno)\n",
    "print(\"grade:\",grade)\n",
    "print(\"percentage:\",percentage)"
   ]
  },
  {
   "cell_type": "code",
   "execution_count": 7,
   "id": "1e315594-6b3e-4c0f-803c-8cdcc4048503",
   "metadata": {},
   "outputs": [
    {
     "name": "stdin",
     "output_type": "stream",
     "text": [
      "enter age: 20\n"
     ]
    },
    {
     "name": "stdout",
     "output_type": "stream",
     "text": [
      "100 th age year is 2104\n"
     ]
    }
   ],
   "source": [
    "#Write a program that asks the user to enter his/her name and age. Print out a message , displaying the user’s name along with the year in which they will turn 100 years old.\n",
    "age=int(input(\"enter age:\"))\n",
    "c=(2024-age)+100\n",
    "print(\"100 th age year is\",c)"
   ]
  },
  {
   "cell_type": "code",
   "execution_count": 13,
   "id": "3d582237-7053-4d47-b5ec-7e3ee0d19e2e",
   "metadata": {},
   "outputs": [
    {
     "name": "stdin",
     "output_type": "stream",
     "text": [
      "enter 2 number: 23\n"
     ]
    },
    {
     "name": "stdout",
     "output_type": "stream",
     "text": [
      "5\n"
     ]
    }
   ],
   "source": [
    "#Write a program that asks the user to input 2 integers and adds them . Accept both the numbers in a single line only\n",
    "a,b=input(\"enter 2 number:\")\n",
    "a,b.split()\n",
    "print(int (a) + int (b))"
   ]
  },
  {
   "cell_type": "code",
   "execution_count": 14,
   "id": "e2476ed6-2561-4903-a02a-8b6ef4bba1a1",
   "metadata": {},
   "outputs": [
    {
     "name": "stdin",
     "output_type": "stream",
     "text": [
      "fname: mahi\n",
      "lname: ar\n"
     ]
    },
    {
     "name": "stdout",
     "output_type": "stream",
     "text": [
      "iham   ra\n"
     ]
    }
   ],
   "source": [
    "#Write a Python program which accepts the user's first and last name and print them in reverse order with a space between them.\n",
    "fname=input(\"fname:\")\n",
    "lname=input(\"lname:\")\n",
    "print(fname[::-1],' ',lname[::-1])"
   ]
  },
  {
   "cell_type": "code",
   "execution_count": null,
   "id": "f9f6026f-27e8-420f-9e01-a657706517ad",
   "metadata": {},
   "outputs": [],
   "source": []
  }
 ],
 "metadata": {
  "kernelspec": {
   "display_name": "Python 3 (ipykernel)",
   "language": "python",
   "name": "python3"
  },
  "language_info": {
   "codemirror_mode": {
    "name": "ipython",
    "version": 3
   },
   "file_extension": ".py",
   "mimetype": "text/x-python",
   "name": "python",
   "nbconvert_exporter": "python",
   "pygments_lexer": "ipython3",
   "version": "3.10.8"
  }
 },
 "nbformat": 4,
 "nbformat_minor": 5
}
